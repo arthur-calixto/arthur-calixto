{
  "nbformat": 4,
  "nbformat_minor": 0,
  "metadata": {
    "colab": {
      "name": "Untitled0.ipynb",
      "provenance": [],
      "authorship_tag": "ABX9TyP938Gq3AW1jtJnKBpBXshm",
      "include_colab_link": true
    },
    "kernelspec": {
      "name": "python3",
      "display_name": "Python 3"
    },
    "language_info": {
      "name": "python"
    }
  },
  "cells": [
    {
      "cell_type": "markdown",
      "metadata": {
        "id": "view-in-github",
        "colab_type": "text"
      },
      "source": [
        "<a href=\"https://colab.research.google.com/github/arthur-calixto/arthur-calixto/blob/main/imersao_phyton_pandas.ipynb\" target=\"_parent\"><img src=\"https://colab.research.google.com/assets/colab-badge.svg\" alt=\"Open In Colab\"/></a>"
      ]
    },
    {
      "cell_type": "code",
      "execution_count": 7,
      "metadata": {
        "colab": {
          "base_uri": "https://localhost:8080/",
          "height": 206
        },
        "id": "OrvZJKtheeac",
        "outputId": "152b0fd9-074b-4c78-d1c0-3a749972c992"
      },
      "outputs": [
        {
          "output_type": "execute_result",
          "data": {
            "text/plain": [
              "                              Rua              Bairro     Cidade  Metragem  \\\n",
              "0           Avenida Itacira, 255    Planalto Paulista  São Paulo      1000   \n",
              "1  Rua Aurelia Perez Alvarez, 42   Jardim dos Estados  São Paulo       496   \n",
              "2                 Rua Alba Valdez     Jardim Reimberg  São Paulo       125   \n",
              "3                             NaN      Jardim Morumbi  São Paulo       310   \n",
              "4        Rua Tobias Barreto, 195                Mooca  São Paulo       100   \n",
              "\n",
              "   Quartos  Banheiros  Vagas         Valor  \n",
              "0        4          8      6  R$ 7.000.000  \n",
              "1        4          4      4  R$ 3.700.000  \n",
              "2        4          3      2    R$ 380.000  \n",
              "3        3          2      4    R$ 685.000  \n",
              "4        3          2      2    R$ 540.000  "
            ],
            "text/html": [
              "\n",
              "  <div id=\"df-d7575d17-2fac-4045-a601-d4e9634dd3e3\">\n",
              "    <div class=\"colab-df-container\">\n",
              "      <div>\n",
              "<style scoped>\n",
              "    .dataframe tbody tr th:only-of-type {\n",
              "        vertical-align: middle;\n",
              "    }\n",
              "\n",
              "    .dataframe tbody tr th {\n",
              "        vertical-align: top;\n",
              "    }\n",
              "\n",
              "    .dataframe thead th {\n",
              "        text-align: right;\n",
              "    }\n",
              "</style>\n",
              "<table border=\"1\" class=\"dataframe\">\n",
              "  <thead>\n",
              "    <tr style=\"text-align: right;\">\n",
              "      <th></th>\n",
              "      <th>Rua</th>\n",
              "      <th>Bairro</th>\n",
              "      <th>Cidade</th>\n",
              "      <th>Metragem</th>\n",
              "      <th>Quartos</th>\n",
              "      <th>Banheiros</th>\n",
              "      <th>Vagas</th>\n",
              "      <th>Valor</th>\n",
              "    </tr>\n",
              "  </thead>\n",
              "  <tbody>\n",
              "    <tr>\n",
              "      <th>0</th>\n",
              "      <td>Avenida Itacira, 255</td>\n",
              "      <td>Planalto Paulista</td>\n",
              "      <td>São Paulo</td>\n",
              "      <td>1000</td>\n",
              "      <td>4</td>\n",
              "      <td>8</td>\n",
              "      <td>6</td>\n",
              "      <td>R$ 7.000.000</td>\n",
              "    </tr>\n",
              "    <tr>\n",
              "      <th>1</th>\n",
              "      <td>Rua Aurelia Perez Alvarez, 42</td>\n",
              "      <td>Jardim dos Estados</td>\n",
              "      <td>São Paulo</td>\n",
              "      <td>496</td>\n",
              "      <td>4</td>\n",
              "      <td>4</td>\n",
              "      <td>4</td>\n",
              "      <td>R$ 3.700.000</td>\n",
              "    </tr>\n",
              "    <tr>\n",
              "      <th>2</th>\n",
              "      <td>Rua Alba Valdez</td>\n",
              "      <td>Jardim Reimberg</td>\n",
              "      <td>São Paulo</td>\n",
              "      <td>125</td>\n",
              "      <td>4</td>\n",
              "      <td>3</td>\n",
              "      <td>2</td>\n",
              "      <td>R$ 380.000</td>\n",
              "    </tr>\n",
              "    <tr>\n",
              "      <th>3</th>\n",
              "      <td>NaN</td>\n",
              "      <td>Jardim Morumbi</td>\n",
              "      <td>São Paulo</td>\n",
              "      <td>310</td>\n",
              "      <td>3</td>\n",
              "      <td>2</td>\n",
              "      <td>4</td>\n",
              "      <td>R$ 685.000</td>\n",
              "    </tr>\n",
              "    <tr>\n",
              "      <th>4</th>\n",
              "      <td>Rua Tobias Barreto, 195</td>\n",
              "      <td>Mooca</td>\n",
              "      <td>São Paulo</td>\n",
              "      <td>100</td>\n",
              "      <td>3</td>\n",
              "      <td>2</td>\n",
              "      <td>2</td>\n",
              "      <td>R$ 540.000</td>\n",
              "    </tr>\n",
              "  </tbody>\n",
              "</table>\n",
              "</div>\n",
              "      <button class=\"colab-df-convert\" onclick=\"convertToInteractive('df-d7575d17-2fac-4045-a601-d4e9634dd3e3')\"\n",
              "              title=\"Convert this dataframe to an interactive table.\"\n",
              "              style=\"display:none;\">\n",
              "        \n",
              "  <svg xmlns=\"http://www.w3.org/2000/svg\" height=\"24px\"viewBox=\"0 0 24 24\"\n",
              "       width=\"24px\">\n",
              "    <path d=\"M0 0h24v24H0V0z\" fill=\"none\"/>\n",
              "    <path d=\"M18.56 5.44l.94 2.06.94-2.06 2.06-.94-2.06-.94-.94-2.06-.94 2.06-2.06.94zm-11 1L8.5 8.5l.94-2.06 2.06-.94-2.06-.94L8.5 2.5l-.94 2.06-2.06.94zm10 10l.94 2.06.94-2.06 2.06-.94-2.06-.94-.94-2.06-.94 2.06-2.06.94z\"/><path d=\"M17.41 7.96l-1.37-1.37c-.4-.4-.92-.59-1.43-.59-.52 0-1.04.2-1.43.59L10.3 9.45l-7.72 7.72c-.78.78-.78 2.05 0 2.83L4 21.41c.39.39.9.59 1.41.59.51 0 1.02-.2 1.41-.59l7.78-7.78 2.81-2.81c.8-.78.8-2.07 0-2.86zM5.41 20L4 18.59l7.72-7.72 1.47 1.35L5.41 20z\"/>\n",
              "  </svg>\n",
              "      </button>\n",
              "      \n",
              "  <style>\n",
              "    .colab-df-container {\n",
              "      display:flex;\n",
              "      flex-wrap:wrap;\n",
              "      gap: 12px;\n",
              "    }\n",
              "\n",
              "    .colab-df-convert {\n",
              "      background-color: #E8F0FE;\n",
              "      border: none;\n",
              "      border-radius: 50%;\n",
              "      cursor: pointer;\n",
              "      display: none;\n",
              "      fill: #1967D2;\n",
              "      height: 32px;\n",
              "      padding: 0 0 0 0;\n",
              "      width: 32px;\n",
              "    }\n",
              "\n",
              "    .colab-df-convert:hover {\n",
              "      background-color: #E2EBFA;\n",
              "      box-shadow: 0px 1px 2px rgba(60, 64, 67, 0.3), 0px 1px 3px 1px rgba(60, 64, 67, 0.15);\n",
              "      fill: #174EA6;\n",
              "    }\n",
              "\n",
              "    [theme=dark] .colab-df-convert {\n",
              "      background-color: #3B4455;\n",
              "      fill: #D2E3FC;\n",
              "    }\n",
              "\n",
              "    [theme=dark] .colab-df-convert:hover {\n",
              "      background-color: #434B5C;\n",
              "      box-shadow: 0px 1px 3px 1px rgba(0, 0, 0, 0.15);\n",
              "      filter: drop-shadow(0px 1px 2px rgba(0, 0, 0, 0.3));\n",
              "      fill: #FFFFFF;\n",
              "    }\n",
              "  </style>\n",
              "\n",
              "      <script>\n",
              "        const buttonEl =\n",
              "          document.querySelector('#df-d7575d17-2fac-4045-a601-d4e9634dd3e3 button.colab-df-convert');\n",
              "        buttonEl.style.display =\n",
              "          google.colab.kernel.accessAllowed ? 'block' : 'none';\n",
              "\n",
              "        async function convertToInteractive(key) {\n",
              "          const element = document.querySelector('#df-d7575d17-2fac-4045-a601-d4e9634dd3e3');\n",
              "          const dataTable =\n",
              "            await google.colab.kernel.invokeFunction('convertToInteractive',\n",
              "                                                     [key], {});\n",
              "          if (!dataTable) return;\n",
              "\n",
              "          const docLinkHtml = 'Like what you see? Visit the ' +\n",
              "            '<a target=\"_blank\" href=https://colab.research.google.com/notebooks/data_table.ipynb>data table notebook</a>'\n",
              "            + ' to learn more about interactive tables.';\n",
              "          element.innerHTML = '';\n",
              "          dataTable['output_type'] = 'display_data';\n",
              "          await google.colab.output.renderOutput(dataTable, element);\n",
              "          const docLink = document.createElement('div');\n",
              "          docLink.innerHTML = docLinkHtml;\n",
              "          element.appendChild(docLink);\n",
              "        }\n",
              "      </script>\n",
              "    </div>\n",
              "  </div>\n",
              "  "
            ]
          },
          "metadata": {},
          "execution_count": 7
        }
      ],
      "source": [
        "import pandas as pd\n",
        "url = \"https://gist.githubusercontent.com/tgcsantos/3bdb29eba6ce391e90df2b72205ba891/raw/22fa920e80c9fa209a9fccc8b52d74cc95d1599b/dados_imoveis.csv\"\n",
        "dados=pd.read_csv(url)\n",
        "\n",
        "dados.head()"
      ]
    },
    {
      "cell_type": "code",
      "source": [
        "dados.sample(10)"
      ],
      "metadata": {
        "colab": {
          "base_uri": "https://localhost:8080/",
          "height": 363
        },
        "id": "ErOhW4vsf-MM",
        "outputId": "2c32df42-9036-4ab5-8521-6c3a0990d17a"
      },
      "execution_count": 10,
      "outputs": [
        {
          "output_type": "execute_result",
          "data": {
            "text/plain": [
              "                                   Rua               Bairro     Cidade  \\\n",
              "3434                   Rua Paulo César          Vila Mazzei  São Paulo   \n",
              "7610  Avenida Eugênio Bartolomai, 193   Jardim Santa Helena  São Paulo   \n",
              "4144     Rua Vasconcelos Drumond, 224        Vila Monumento  São Paulo   \n",
              "4535                      Rua Itápolis             Pacaembu  São Paulo   \n",
              "3710                Rua Nicolau Zarvos     Parque Jabaquara  São Paulo   \n",
              "7905    Rua Padre Germano Mayer, , 73              Maranhão  São Paulo   \n",
              "6315                               NaN     Jardim Jabaquara  São Paulo   \n",
              "419                                NaN    Alto de Pinheiros  São Paulo   \n",
              "8128    Avenida Doutor Cardoso de Melo         Vila Olímpia  São Paulo   \n",
              "8427               Rua Fructuoso Viana      Horto Florestal  São Paulo   \n",
              "\n",
              "      Metragem  Quartos  Banheiros  Vagas         Valor  \n",
              "3434       230        4          4      5  R$ 1.330.000  \n",
              "7610       290        3          3      4  R$ 1.290.000  \n",
              "4144       145        3          1      4  R$ 1.300.000  \n",
              "4535       350        3          1      5  R$ 2.600.000  \n",
              "3710       204        4          4      4  R$ 1.350.000  \n",
              "7905       115        3          4      1    R$ 650.000  \n",
              "6315       245        3          4      6    R$ 795.000  \n",
              "419        426        4          7      5  R$ 2.700.000  \n",
              "8128       300        4          1      8    R$ 950.000  \n",
              "8427       145        3          3      3    R$ 689.000  "
            ],
            "text/html": [
              "\n",
              "  <div id=\"df-f3e39bb6-0cf0-4a96-83c6-1031bfc90b0e\">\n",
              "    <div class=\"colab-df-container\">\n",
              "      <div>\n",
              "<style scoped>\n",
              "    .dataframe tbody tr th:only-of-type {\n",
              "        vertical-align: middle;\n",
              "    }\n",
              "\n",
              "    .dataframe tbody tr th {\n",
              "        vertical-align: top;\n",
              "    }\n",
              "\n",
              "    .dataframe thead th {\n",
              "        text-align: right;\n",
              "    }\n",
              "</style>\n",
              "<table border=\"1\" class=\"dataframe\">\n",
              "  <thead>\n",
              "    <tr style=\"text-align: right;\">\n",
              "      <th></th>\n",
              "      <th>Rua</th>\n",
              "      <th>Bairro</th>\n",
              "      <th>Cidade</th>\n",
              "      <th>Metragem</th>\n",
              "      <th>Quartos</th>\n",
              "      <th>Banheiros</th>\n",
              "      <th>Vagas</th>\n",
              "      <th>Valor</th>\n",
              "    </tr>\n",
              "  </thead>\n",
              "  <tbody>\n",
              "    <tr>\n",
              "      <th>3434</th>\n",
              "      <td>Rua Paulo César</td>\n",
              "      <td>Vila Mazzei</td>\n",
              "      <td>São Paulo</td>\n",
              "      <td>230</td>\n",
              "      <td>4</td>\n",
              "      <td>4</td>\n",
              "      <td>5</td>\n",
              "      <td>R$ 1.330.000</td>\n",
              "    </tr>\n",
              "    <tr>\n",
              "      <th>7610</th>\n",
              "      <td>Avenida Eugênio Bartolomai, 193</td>\n",
              "      <td>Jardim Santa Helena</td>\n",
              "      <td>São Paulo</td>\n",
              "      <td>290</td>\n",
              "      <td>3</td>\n",
              "      <td>3</td>\n",
              "      <td>4</td>\n",
              "      <td>R$ 1.290.000</td>\n",
              "    </tr>\n",
              "    <tr>\n",
              "      <th>4144</th>\n",
              "      <td>Rua Vasconcelos Drumond, 224</td>\n",
              "      <td>Vila Monumento</td>\n",
              "      <td>São Paulo</td>\n",
              "      <td>145</td>\n",
              "      <td>3</td>\n",
              "      <td>1</td>\n",
              "      <td>4</td>\n",
              "      <td>R$ 1.300.000</td>\n",
              "    </tr>\n",
              "    <tr>\n",
              "      <th>4535</th>\n",
              "      <td>Rua Itápolis</td>\n",
              "      <td>Pacaembu</td>\n",
              "      <td>São Paulo</td>\n",
              "      <td>350</td>\n",
              "      <td>3</td>\n",
              "      <td>1</td>\n",
              "      <td>5</td>\n",
              "      <td>R$ 2.600.000</td>\n",
              "    </tr>\n",
              "    <tr>\n",
              "      <th>3710</th>\n",
              "      <td>Rua Nicolau Zarvos</td>\n",
              "      <td>Parque Jabaquara</td>\n",
              "      <td>São Paulo</td>\n",
              "      <td>204</td>\n",
              "      <td>4</td>\n",
              "      <td>4</td>\n",
              "      <td>4</td>\n",
              "      <td>R$ 1.350.000</td>\n",
              "    </tr>\n",
              "    <tr>\n",
              "      <th>7905</th>\n",
              "      <td>Rua Padre Germano Mayer, , 73</td>\n",
              "      <td>Maranhão</td>\n",
              "      <td>São Paulo</td>\n",
              "      <td>115</td>\n",
              "      <td>3</td>\n",
              "      <td>4</td>\n",
              "      <td>1</td>\n",
              "      <td>R$ 650.000</td>\n",
              "    </tr>\n",
              "    <tr>\n",
              "      <th>6315</th>\n",
              "      <td>NaN</td>\n",
              "      <td>Jardim Jabaquara</td>\n",
              "      <td>São Paulo</td>\n",
              "      <td>245</td>\n",
              "      <td>3</td>\n",
              "      <td>4</td>\n",
              "      <td>6</td>\n",
              "      <td>R$ 795.000</td>\n",
              "    </tr>\n",
              "    <tr>\n",
              "      <th>419</th>\n",
              "      <td>NaN</td>\n",
              "      <td>Alto de Pinheiros</td>\n",
              "      <td>São Paulo</td>\n",
              "      <td>426</td>\n",
              "      <td>4</td>\n",
              "      <td>7</td>\n",
              "      <td>5</td>\n",
              "      <td>R$ 2.700.000</td>\n",
              "    </tr>\n",
              "    <tr>\n",
              "      <th>8128</th>\n",
              "      <td>Avenida Doutor Cardoso de Melo</td>\n",
              "      <td>Vila Olímpia</td>\n",
              "      <td>São Paulo</td>\n",
              "      <td>300</td>\n",
              "      <td>4</td>\n",
              "      <td>1</td>\n",
              "      <td>8</td>\n",
              "      <td>R$ 950.000</td>\n",
              "    </tr>\n",
              "    <tr>\n",
              "      <th>8427</th>\n",
              "      <td>Rua Fructuoso Viana</td>\n",
              "      <td>Horto Florestal</td>\n",
              "      <td>São Paulo</td>\n",
              "      <td>145</td>\n",
              "      <td>3</td>\n",
              "      <td>3</td>\n",
              "      <td>3</td>\n",
              "      <td>R$ 689.000</td>\n",
              "    </tr>\n",
              "  </tbody>\n",
              "</table>\n",
              "</div>\n",
              "      <button class=\"colab-df-convert\" onclick=\"convertToInteractive('df-f3e39bb6-0cf0-4a96-83c6-1031bfc90b0e')\"\n",
              "              title=\"Convert this dataframe to an interactive table.\"\n",
              "              style=\"display:none;\">\n",
              "        \n",
              "  <svg xmlns=\"http://www.w3.org/2000/svg\" height=\"24px\"viewBox=\"0 0 24 24\"\n",
              "       width=\"24px\">\n",
              "    <path d=\"M0 0h24v24H0V0z\" fill=\"none\"/>\n",
              "    <path d=\"M18.56 5.44l.94 2.06.94-2.06 2.06-.94-2.06-.94-.94-2.06-.94 2.06-2.06.94zm-11 1L8.5 8.5l.94-2.06 2.06-.94-2.06-.94L8.5 2.5l-.94 2.06-2.06.94zm10 10l.94 2.06.94-2.06 2.06-.94-2.06-.94-.94-2.06-.94 2.06-2.06.94z\"/><path d=\"M17.41 7.96l-1.37-1.37c-.4-.4-.92-.59-1.43-.59-.52 0-1.04.2-1.43.59L10.3 9.45l-7.72 7.72c-.78.78-.78 2.05 0 2.83L4 21.41c.39.39.9.59 1.41.59.51 0 1.02-.2 1.41-.59l7.78-7.78 2.81-2.81c.8-.78.8-2.07 0-2.86zM5.41 20L4 18.59l7.72-7.72 1.47 1.35L5.41 20z\"/>\n",
              "  </svg>\n",
              "      </button>\n",
              "      \n",
              "  <style>\n",
              "    .colab-df-container {\n",
              "      display:flex;\n",
              "      flex-wrap:wrap;\n",
              "      gap: 12px;\n",
              "    }\n",
              "\n",
              "    .colab-df-convert {\n",
              "      background-color: #E8F0FE;\n",
              "      border: none;\n",
              "      border-radius: 50%;\n",
              "      cursor: pointer;\n",
              "      display: none;\n",
              "      fill: #1967D2;\n",
              "      height: 32px;\n",
              "      padding: 0 0 0 0;\n",
              "      width: 32px;\n",
              "    }\n",
              "\n",
              "    .colab-df-convert:hover {\n",
              "      background-color: #E2EBFA;\n",
              "      box-shadow: 0px 1px 2px rgba(60, 64, 67, 0.3), 0px 1px 3px 1px rgba(60, 64, 67, 0.15);\n",
              "      fill: #174EA6;\n",
              "    }\n",
              "\n",
              "    [theme=dark] .colab-df-convert {\n",
              "      background-color: #3B4455;\n",
              "      fill: #D2E3FC;\n",
              "    }\n",
              "\n",
              "    [theme=dark] .colab-df-convert:hover {\n",
              "      background-color: #434B5C;\n",
              "      box-shadow: 0px 1px 3px 1px rgba(0, 0, 0, 0.15);\n",
              "      filter: drop-shadow(0px 1px 2px rgba(0, 0, 0, 0.3));\n",
              "      fill: #FFFFFF;\n",
              "    }\n",
              "  </style>\n",
              "\n",
              "      <script>\n",
              "        const buttonEl =\n",
              "          document.querySelector('#df-f3e39bb6-0cf0-4a96-83c6-1031bfc90b0e button.colab-df-convert');\n",
              "        buttonEl.style.display =\n",
              "          google.colab.kernel.accessAllowed ? 'block' : 'none';\n",
              "\n",
              "        async function convertToInteractive(key) {\n",
              "          const element = document.querySelector('#df-f3e39bb6-0cf0-4a96-83c6-1031bfc90b0e');\n",
              "          const dataTable =\n",
              "            await google.colab.kernel.invokeFunction('convertToInteractive',\n",
              "                                                     [key], {});\n",
              "          if (!dataTable) return;\n",
              "\n",
              "          const docLinkHtml = 'Like what you see? Visit the ' +\n",
              "            '<a target=\"_blank\" href=https://colab.research.google.com/notebooks/data_table.ipynb>data table notebook</a>'\n",
              "            + ' to learn more about interactive tables.';\n",
              "          element.innerHTML = '';\n",
              "          dataTable['output_type'] = 'display_data';\n",
              "          await google.colab.output.renderOutput(dataTable, element);\n",
              "          const docLink = document.createElement('div');\n",
              "          docLink.innerHTML = docLinkHtml;\n",
              "          element.appendChild(docLink);\n",
              "        }\n",
              "      </script>\n",
              "    </div>\n",
              "  </div>\n",
              "  "
            ]
          },
          "metadata": {},
          "execution_count": 10
        }
      ]
    },
    {
      "cell_type": "code",
      "source": [
        "dados [\"Bairro\"] [7610]"
      ],
      "metadata": {
        "colab": {
          "base_uri": "https://localhost:8080/",
          "height": 35
        },
        "id": "1pSzyya0gCLO",
        "outputId": "9af69e2f-c78b-48cd-bb18-8f799101f161"
      },
      "execution_count": 13,
      "outputs": [
        {
          "output_type": "execute_result",
          "data": {
            "text/plain": [
              "'Jardim Santa Helena'"
            ],
            "application/vnd.google.colaboratory.intrinsic+json": {
              "type": "string"
            }
          },
          "metadata": {},
          "execution_count": 13
        }
      ]
    },
    {
      "cell_type": "code",
      "source": [
        "dados.info()"
      ],
      "metadata": {
        "colab": {
          "base_uri": "https://localhost:8080/"
        },
        "id": "SfADcQ9-hLDP",
        "outputId": "b204dd35-0e6a-496e-8abf-ef1797f1fbf1"
      },
      "execution_count": 14,
      "outputs": [
        {
          "output_type": "stream",
          "name": "stdout",
          "text": [
            "<class 'pandas.core.frame.DataFrame'>\n",
            "RangeIndex: 10008 entries, 0 to 10007\n",
            "Data columns (total 8 columns):\n",
            " #   Column     Non-Null Count  Dtype \n",
            "---  ------     --------------  ----- \n",
            " 0   Rua        6574 non-null   object\n",
            " 1   Bairro     9996 non-null   object\n",
            " 2   Cidade     10008 non-null  object\n",
            " 3   Metragem   10008 non-null  int64 \n",
            " 4   Quartos    10008 non-null  int64 \n",
            " 5   Banheiros  10008 non-null  int64 \n",
            " 6   Vagas      10008 non-null  int64 \n",
            " 7   Valor      10008 non-null  object\n",
            "dtypes: int64(4), object(4)\n",
            "memory usage: 625.6+ KB\n"
          ]
        }
      ]
    },
    {
      "cell_type": "code",
      "source": [
        "dados [\"Metragem\"].mean()"
      ],
      "metadata": {
        "colab": {
          "base_uri": "https://localhost:8080/"
        },
        "id": "NdgCYElwhwhf",
        "outputId": "71c18e4c-48d7-40c0-f5a8-c5894fc88f8b"
      },
      "execution_count": 17,
      "outputs": [
        {
          "output_type": "execute_result",
          "data": {
            "text/plain": [
              "442.30065947242207"
            ]
          },
          "metadata": {},
          "execution_count": 17
        }
      ]
    },
    {
      "cell_type": "code",
      "source": [
        "sum ((dados[\"Bairro\"] == \"Vila Mariana\"))"
      ],
      "metadata": {
        "colab": {
          "base_uri": "https://localhost:8080/"
        },
        "id": "UkqvrIk8iZup",
        "outputId": "641d9b05-b939-4b83-db0d-7e74811e0578"
      },
      "execution_count": 19,
      "outputs": [
        {
          "output_type": "execute_result",
          "data": {
            "text/plain": [
              "184"
            ]
          },
          "metadata": {},
          "execution_count": 19
        }
      ]
    },
    {
      "cell_type": "code",
      "source": [
        "tem_imoveis_vila = (dados[\"Bairro\"] == \"Vila Mariana\")\n",
        "tem_imoveis_vila"
      ],
      "metadata": {
        "colab": {
          "base_uri": "https://localhost:8080/"
        },
        "id": "tdBc2lhljRWd",
        "outputId": "8c3dfb15-c435-463d-b991-f688924bfb37"
      },
      "execution_count": 20,
      "outputs": [
        {
          "output_type": "execute_result",
          "data": {
            "text/plain": [
              "0        False\n",
              "1        False\n",
              "2        False\n",
              "3        False\n",
              "4        False\n",
              "         ...  \n",
              "10003    False\n",
              "10004    False\n",
              "10005    False\n",
              "10006    False\n",
              "10007    False\n",
              "Name: Bairro, Length: 10008, dtype: bool"
            ]
          },
          "metadata": {},
          "execution_count": 20
        }
      ]
    },
    {
      "cell_type": "code",
      "source": [
        "imoveis_vila_mariana = dados[tem_imoveis_vila]\n",
        "imoveis_vila_mariana"
      ],
      "metadata": {
        "colab": {
          "base_uri": "https://localhost:8080/",
          "height": 424
        },
        "id": "LpWpZtBblvda",
        "outputId": "60a83ed2-c613-431e-8305-024ec80bce65"
      },
      "execution_count": 26,
      "outputs": [
        {
          "output_type": "execute_result",
          "data": {
            "text/plain": [
              "                               Rua        Bairro     Cidade  Metragem  \\\n",
              "100               Rua Pero Correia  Vila Mariana  São Paulo       250   \n",
              "120   Praça Doutor Carvalho Franco  Vila Mariana  São Paulo       250   \n",
              "155     Rua Professor João Marinho  Vila Mariana  São Paulo       170   \n",
              "160                            NaN  Vila Mariana  São Paulo       228   \n",
              "334         Rua Pero Correia, 892   Vila Mariana  São Paulo       350   \n",
              "...                            ...           ...        ...       ...   \n",
              "9645               Rua Sousa Ramos  Vila Mariana  São Paulo       285   \n",
              "9701             Rua Benito Juarez  Vila Mariana  São Paulo       171   \n",
              "9737             Rua Benito Juarez  Vila Mariana  São Paulo       171   \n",
              "9807                           NaN  Vila Mariana  São Paulo       275   \n",
              "9852              Rua França Pinto  Vila Mariana  São Paulo       280   \n",
              "\n",
              "      Quartos  Banheiros  Vagas         Valor  \n",
              "100         3          3      1  R$ 1.350.000  \n",
              "120         3          5      2  R$ 2.450.000  \n",
              "155         3          4      2  R$ 1.490.000  \n",
              "160         4          5      3  R$ 2.200.000  \n",
              "334         6          4     10  R$ 1.700.000  \n",
              "...       ...        ...    ...           ...  \n",
              "9645        3          5      5  R$ 1.650.000  \n",
              "9701        3          2      4  R$ 1.650.000  \n",
              "9737        3          2      4  R$ 1.650.000  \n",
              "9807        3          1      6  R$ 1.500.000  \n",
              "9852        3          3      4  R$ 1.600.000  \n",
              "\n",
              "[184 rows x 8 columns]"
            ],
            "text/html": [
              "\n",
              "  <div id=\"df-3a320239-45ff-4bc5-9534-9e81ba150417\">\n",
              "    <div class=\"colab-df-container\">\n",
              "      <div>\n",
              "<style scoped>\n",
              "    .dataframe tbody tr th:only-of-type {\n",
              "        vertical-align: middle;\n",
              "    }\n",
              "\n",
              "    .dataframe tbody tr th {\n",
              "        vertical-align: top;\n",
              "    }\n",
              "\n",
              "    .dataframe thead th {\n",
              "        text-align: right;\n",
              "    }\n",
              "</style>\n",
              "<table border=\"1\" class=\"dataframe\">\n",
              "  <thead>\n",
              "    <tr style=\"text-align: right;\">\n",
              "      <th></th>\n",
              "      <th>Rua</th>\n",
              "      <th>Bairro</th>\n",
              "      <th>Cidade</th>\n",
              "      <th>Metragem</th>\n",
              "      <th>Quartos</th>\n",
              "      <th>Banheiros</th>\n",
              "      <th>Vagas</th>\n",
              "      <th>Valor</th>\n",
              "    </tr>\n",
              "  </thead>\n",
              "  <tbody>\n",
              "    <tr>\n",
              "      <th>100</th>\n",
              "      <td>Rua Pero Correia</td>\n",
              "      <td>Vila Mariana</td>\n",
              "      <td>São Paulo</td>\n",
              "      <td>250</td>\n",
              "      <td>3</td>\n",
              "      <td>3</td>\n",
              "      <td>1</td>\n",
              "      <td>R$ 1.350.000</td>\n",
              "    </tr>\n",
              "    <tr>\n",
              "      <th>120</th>\n",
              "      <td>Praça Doutor Carvalho Franco</td>\n",
              "      <td>Vila Mariana</td>\n",
              "      <td>São Paulo</td>\n",
              "      <td>250</td>\n",
              "      <td>3</td>\n",
              "      <td>5</td>\n",
              "      <td>2</td>\n",
              "      <td>R$ 2.450.000</td>\n",
              "    </tr>\n",
              "    <tr>\n",
              "      <th>155</th>\n",
              "      <td>Rua Professor João Marinho</td>\n",
              "      <td>Vila Mariana</td>\n",
              "      <td>São Paulo</td>\n",
              "      <td>170</td>\n",
              "      <td>3</td>\n",
              "      <td>4</td>\n",
              "      <td>2</td>\n",
              "      <td>R$ 1.490.000</td>\n",
              "    </tr>\n",
              "    <tr>\n",
              "      <th>160</th>\n",
              "      <td>NaN</td>\n",
              "      <td>Vila Mariana</td>\n",
              "      <td>São Paulo</td>\n",
              "      <td>228</td>\n",
              "      <td>4</td>\n",
              "      <td>5</td>\n",
              "      <td>3</td>\n",
              "      <td>R$ 2.200.000</td>\n",
              "    </tr>\n",
              "    <tr>\n",
              "      <th>334</th>\n",
              "      <td>Rua Pero Correia, 892</td>\n",
              "      <td>Vila Mariana</td>\n",
              "      <td>São Paulo</td>\n",
              "      <td>350</td>\n",
              "      <td>6</td>\n",
              "      <td>4</td>\n",
              "      <td>10</td>\n",
              "      <td>R$ 1.700.000</td>\n",
              "    </tr>\n",
              "    <tr>\n",
              "      <th>...</th>\n",
              "      <td>...</td>\n",
              "      <td>...</td>\n",
              "      <td>...</td>\n",
              "      <td>...</td>\n",
              "      <td>...</td>\n",
              "      <td>...</td>\n",
              "      <td>...</td>\n",
              "      <td>...</td>\n",
              "    </tr>\n",
              "    <tr>\n",
              "      <th>9645</th>\n",
              "      <td>Rua Sousa Ramos</td>\n",
              "      <td>Vila Mariana</td>\n",
              "      <td>São Paulo</td>\n",
              "      <td>285</td>\n",
              "      <td>3</td>\n",
              "      <td>5</td>\n",
              "      <td>5</td>\n",
              "      <td>R$ 1.650.000</td>\n",
              "    </tr>\n",
              "    <tr>\n",
              "      <th>9701</th>\n",
              "      <td>Rua Benito Juarez</td>\n",
              "      <td>Vila Mariana</td>\n",
              "      <td>São Paulo</td>\n",
              "      <td>171</td>\n",
              "      <td>3</td>\n",
              "      <td>2</td>\n",
              "      <td>4</td>\n",
              "      <td>R$ 1.650.000</td>\n",
              "    </tr>\n",
              "    <tr>\n",
              "      <th>9737</th>\n",
              "      <td>Rua Benito Juarez</td>\n",
              "      <td>Vila Mariana</td>\n",
              "      <td>São Paulo</td>\n",
              "      <td>171</td>\n",
              "      <td>3</td>\n",
              "      <td>2</td>\n",
              "      <td>4</td>\n",
              "      <td>R$ 1.650.000</td>\n",
              "    </tr>\n",
              "    <tr>\n",
              "      <th>9807</th>\n",
              "      <td>NaN</td>\n",
              "      <td>Vila Mariana</td>\n",
              "      <td>São Paulo</td>\n",
              "      <td>275</td>\n",
              "      <td>3</td>\n",
              "      <td>1</td>\n",
              "      <td>6</td>\n",
              "      <td>R$ 1.500.000</td>\n",
              "    </tr>\n",
              "    <tr>\n",
              "      <th>9852</th>\n",
              "      <td>Rua França Pinto</td>\n",
              "      <td>Vila Mariana</td>\n",
              "      <td>São Paulo</td>\n",
              "      <td>280</td>\n",
              "      <td>3</td>\n",
              "      <td>3</td>\n",
              "      <td>4</td>\n",
              "      <td>R$ 1.600.000</td>\n",
              "    </tr>\n",
              "  </tbody>\n",
              "</table>\n",
              "<p>184 rows × 8 columns</p>\n",
              "</div>\n",
              "      <button class=\"colab-df-convert\" onclick=\"convertToInteractive('df-3a320239-45ff-4bc5-9534-9e81ba150417')\"\n",
              "              title=\"Convert this dataframe to an interactive table.\"\n",
              "              style=\"display:none;\">\n",
              "        \n",
              "  <svg xmlns=\"http://www.w3.org/2000/svg\" height=\"24px\"viewBox=\"0 0 24 24\"\n",
              "       width=\"24px\">\n",
              "    <path d=\"M0 0h24v24H0V0z\" fill=\"none\"/>\n",
              "    <path d=\"M18.56 5.44l.94 2.06.94-2.06 2.06-.94-2.06-.94-.94-2.06-.94 2.06-2.06.94zm-11 1L8.5 8.5l.94-2.06 2.06-.94-2.06-.94L8.5 2.5l-.94 2.06-2.06.94zm10 10l.94 2.06.94-2.06 2.06-.94-2.06-.94-.94-2.06-.94 2.06-2.06.94z\"/><path d=\"M17.41 7.96l-1.37-1.37c-.4-.4-.92-.59-1.43-.59-.52 0-1.04.2-1.43.59L10.3 9.45l-7.72 7.72c-.78.78-.78 2.05 0 2.83L4 21.41c.39.39.9.59 1.41.59.51 0 1.02-.2 1.41-.59l7.78-7.78 2.81-2.81c.8-.78.8-2.07 0-2.86zM5.41 20L4 18.59l7.72-7.72 1.47 1.35L5.41 20z\"/>\n",
              "  </svg>\n",
              "      </button>\n",
              "      \n",
              "  <style>\n",
              "    .colab-df-container {\n",
              "      display:flex;\n",
              "      flex-wrap:wrap;\n",
              "      gap: 12px;\n",
              "    }\n",
              "\n",
              "    .colab-df-convert {\n",
              "      background-color: #E8F0FE;\n",
              "      border: none;\n",
              "      border-radius: 50%;\n",
              "      cursor: pointer;\n",
              "      display: none;\n",
              "      fill: #1967D2;\n",
              "      height: 32px;\n",
              "      padding: 0 0 0 0;\n",
              "      width: 32px;\n",
              "    }\n",
              "\n",
              "    .colab-df-convert:hover {\n",
              "      background-color: #E2EBFA;\n",
              "      box-shadow: 0px 1px 2px rgba(60, 64, 67, 0.3), 0px 1px 3px 1px rgba(60, 64, 67, 0.15);\n",
              "      fill: #174EA6;\n",
              "    }\n",
              "\n",
              "    [theme=dark] .colab-df-convert {\n",
              "      background-color: #3B4455;\n",
              "      fill: #D2E3FC;\n",
              "    }\n",
              "\n",
              "    [theme=dark] .colab-df-convert:hover {\n",
              "      background-color: #434B5C;\n",
              "      box-shadow: 0px 1px 3px 1px rgba(0, 0, 0, 0.15);\n",
              "      filter: drop-shadow(0px 1px 2px rgba(0, 0, 0, 0.3));\n",
              "      fill: #FFFFFF;\n",
              "    }\n",
              "  </style>\n",
              "\n",
              "      <script>\n",
              "        const buttonEl =\n",
              "          document.querySelector('#df-3a320239-45ff-4bc5-9534-9e81ba150417 button.colab-df-convert');\n",
              "        buttonEl.style.display =\n",
              "          google.colab.kernel.accessAllowed ? 'block' : 'none';\n",
              "\n",
              "        async function convertToInteractive(key) {\n",
              "          const element = document.querySelector('#df-3a320239-45ff-4bc5-9534-9e81ba150417');\n",
              "          const dataTable =\n",
              "            await google.colab.kernel.invokeFunction('convertToInteractive',\n",
              "                                                     [key], {});\n",
              "          if (!dataTable) return;\n",
              "\n",
              "          const docLinkHtml = 'Like what you see? Visit the ' +\n",
              "            '<a target=\"_blank\" href=https://colab.research.google.com/notebooks/data_table.ipynb>data table notebook</a>'\n",
              "            + ' to learn more about interactive tables.';\n",
              "          element.innerHTML = '';\n",
              "          dataTable['output_type'] = 'display_data';\n",
              "          await google.colab.output.renderOutput(dataTable, element);\n",
              "          const docLink = document.createElement('div');\n",
              "          docLink.innerHTML = docLinkHtml;\n",
              "          element.appendChild(docLink);\n",
              "        }\n",
              "      </script>\n",
              "    </div>\n",
              "  </div>\n",
              "  "
            ]
          },
          "metadata": {},
          "execution_count": 26
        }
      ]
    },
    {
      "cell_type": "code",
      "source": [
        "imoveis_vila_mariana[\"Metragem\"].mean()"
      ],
      "metadata": {
        "colab": {
          "base_uri": "https://localhost:8080/"
        },
        "id": "BwuvmZwUl-kf",
        "outputId": "5a5022a7-d917-4e77-ed7d-9a99a54d33c8"
      },
      "execution_count": 24,
      "outputs": [
        {
          "output_type": "execute_result",
          "data": {
            "text/plain": [
              "233.6195652173913"
            ]
          },
          "metadata": {},
          "execution_count": 24
        }
      ]
    },
    {
      "cell_type": "code",
      "source": [
        "dados[\"Bairro\"].value_counts()"
      ],
      "metadata": {
        "colab": {
          "base_uri": "https://localhost:8080/"
        },
        "id": "UnOT0VjjmN1H",
        "outputId": "bac7ec6f-860b-4132-b275-a31bd97c5dc0"
      },
      "execution_count": 27,
      "outputs": [
        {
          "output_type": "execute_result",
          "data": {
            "text/plain": [
              "Alto de Pinheiros     409\n",
              "Jardim Guedala        403\n",
              "Jardim Paulista       309\n",
              "Brooklin Paulista     247\n",
              "Jardim Europa         240\n",
              "                     ... \n",
              "Jardim das Imbuias      1\n",
              "Vila Represa            1\n",
              "Vila Nancy              1\n",
              "Sítio Represa           1\n",
              "Vila Invernada          1\n",
              "Name: Bairro, Length: 701, dtype: int64"
            ]
          },
          "metadata": {},
          "execution_count": 27
        }
      ]
    },
    {
      "cell_type": "code",
      "source": [
        "n_imoveis_bairro = dados[\"Bairro\"].value_counts()\n",
        "n_imoveis_bairro.head(10).plot.bar()"
      ],
      "metadata": {
        "colab": {
          "base_uri": "https://localhost:8080/",
          "height": 356
        },
        "id": "EYF7MmjUnqZw",
        "outputId": "95cc6834-0c31-4adf-a450-3f842ce3ee52"
      },
      "execution_count": 30,
      "outputs": [
        {
          "output_type": "execute_result",
          "data": {
            "text/plain": [
              "<matplotlib.axes._subplots.AxesSubplot at 0x7f5bd8aeb650>"
            ]
          },
          "metadata": {},
          "execution_count": 30
        },
        {
          "output_type": "display_data",
          "data": {
            "text/plain": [
              "<Figure size 432x288 with 1 Axes>"
            ],
            "image/png": "[encoded data removed]"
          },
          "metadata": {
            "needs_background": "light"
          }
        }
      ]
    },
    {
      "cell_type": "code",
      "source": [
        ""
      ],
      "metadata": {
        "id": "Fh0eGpYioOs6"
      },
      "execution_count": null,
      "outputs": []
    }
  ]
}